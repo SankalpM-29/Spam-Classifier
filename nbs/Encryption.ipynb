{
 "cells": [
  {
   "cell_type": "code",
   "execution_count": 1,
   "id": "cfc58cd7",
   "metadata": {},
   "outputs": [
    {
     "name": "stdout",
     "output_type": "stream",
     "text": [
      "Requirement already satisfied: cryptography in /Users/cfe/Dev/ai-api/lib/python3.9/site-packages (35.0.0)\n",
      "Requirement already satisfied: cffi>=1.12 in /Users/cfe/Dev/ai-api/lib/python3.9/site-packages (from cryptography) (1.14.6)\n",
      "Requirement already satisfied: pycparser in /Users/cfe/Dev/ai-api/lib/python3.9/site-packages (from cffi>=1.12->cryptography) (2.20)\n",
      "Note: you may need to restart the kernel to use updated packages.\n"
     ]
    }
   ],
   "source": [
    "%pip install cryptography"
   ]
  },
  {
   "cell_type": "code",
   "execution_count": 2,
   "id": "3138f8e2",
   "metadata": {},
   "outputs": [],
   "source": [
    "from cryptography.fernet import Fernet"
   ]
  },
  {
   "cell_type": "code",
   "execution_count": 32,
   "id": "3d4f1ef8",
   "metadata": {},
   "outputs": [],
   "source": [
    "key = Fernet.generate_key().decode(\"UTF-8\")"
   ]
  },
  {
   "cell_type": "code",
   "execution_count": 6,
   "id": "25e02d70",
   "metadata": {},
   "outputs": [],
   "source": [
    "import pathlib"
   ]
  },
  {
   "cell_type": "code",
   "execution_count": 11,
   "id": "6053c85b",
   "metadata": {},
   "outputs": [
    {
     "data": {
      "text/plain": [
       "True"
      ]
     },
     "execution_count": 11,
     "metadata": {},
     "output_type": "execute_result"
    }
   ],
   "source": [
    "BASE_DIR = pathlib.Path().resolve().parent\n",
    "BASE_DIR.exists()"
   ]
  },
  {
   "cell_type": "code",
   "execution_count": 12,
   "id": "cf435f7a",
   "metadata": {},
   "outputs": [
    {
     "data": {
      "text/plain": [
       "True"
      ]
     },
     "execution_count": 12,
     "metadata": {},
     "output_type": "execute_result"
    }
   ],
   "source": [
    "APP_DIR = BASE_DIR / \"app\"\n",
    "APP_DIR.exists()"
   ]
  },
  {
   "cell_type": "code",
   "execution_count": 21,
   "id": "38f8e0dc",
   "metadata": {},
   "outputs": [],
   "source": [
    "IGNORED_DIR = APP_DIR / \"ignored\"\n",
    "SECURE_DIR = APP_DIR / \"encrypted\"\n",
    "DECRYPTED_DIR = APP_DIR / \"decrypted\"\n",
    "SECURE_DIR.mkdir(exist_ok=True, parents=True)\n",
    "DECRYPTED_DIR.mkdir(exist_ok=True, parents=True)"
   ]
  },
  {
   "cell_type": "code",
   "execution_count": 33,
   "id": "233c5507",
   "metadata": {},
   "outputs": [],
   "source": [
    "fer = Fernet(key) # f\"{}:\""
   ]
  },
  {
   "cell_type": "code",
   "execution_count": 27,
   "id": "62bc24a7",
   "metadata": {},
   "outputs": [],
   "source": [
    "for path in IGNORED_DIR.glob(\"*\"):\n",
    "    _path_bytes = path.read_bytes() # open(filepath, 'rb')\n",
    "    data = fer.encrypt(_path_bytes)\n",
    "    rel_path = path.relative_to(IGNORED_DIR)\n",
    "    dest_path = SECURE_DIR / rel_path\n",
    "    dest_path.write_bytes(data)"
   ]
  },
  {
   "cell_type": "code",
   "execution_count": 31,
   "id": "246ded34",
   "metadata": {},
   "outputs": [],
   "source": [
    "for path in SECURE_DIR.glob(\"*\"):\n",
    "    _path_bytes = path.read_bytes() # open(filepath, 'rb')\n",
    "    data = fer.decrypt(_path_bytes)\n",
    "    rel_path = path.relative_to(SECURE_DIR)\n",
    "    dest_path = DECRYPTED_DIR / rel_path\n",
    "    dest_path.write_bytes(data)"
   ]
  },
  {
   "cell_type": "code",
   "execution_count": null,
   "id": "8735b09c",
   "metadata": {},
   "outputs": [],
   "source": []
  }
 ],
 "metadata": {
  "kernelspec": {
   "display_name": "Python 3 (ipykernel)",
   "language": "python",
   "name": "python3"
  },
  "language_info": {
   "codemirror_mode": {
    "name": "ipython",
    "version": 3
   },
   "file_extension": ".py",
   "mimetype": "text/x-python",
   "name": "python",
   "nbconvert_exporter": "python",
   "pygments_lexer": "ipython3",
   "version": "3.9.7"
  }
 },
 "nbformat": 4,
 "nbformat_minor": 5
}
