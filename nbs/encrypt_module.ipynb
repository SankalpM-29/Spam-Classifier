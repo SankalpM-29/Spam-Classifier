{
 "cells": [
  {
   "cell_type": "code",
   "execution_count": 1,
   "id": "cfc58cd7",
   "metadata": {},
   "outputs": [],
   "source": [
    "import warnings\n",
    "warnings.filterwarnings('ignore')"
   ]
  },
  {
   "cell_type": "code",
   "execution_count": 2,
   "id": "3138f8e2",
   "metadata": {},
   "outputs": [
    {
     "data": {
      "text/plain": [
       "True"
      ]
     },
     "execution_count": 2,
     "metadata": {},
     "output_type": "execute_result"
    }
   ],
   "source": [
    "import pathlib\n",
    "import os\n",
    "from cryptography.fernet import Fernet\n",
    "from dotenv import load_dotenv\n",
    "\n",
    "load_dotenv() "
   ]
  },
  {
   "cell_type": "code",
   "execution_count": 5,
   "id": "e3ac9e98",
   "metadata": {},
   "outputs": [
    {
     "data": {
      "text/plain": [
       "True"
      ]
     },
     "execution_count": 5,
     "metadata": {},
     "output_type": "execute_result"
    }
   ],
   "source": [
    "BASE_DIR = pathlib.Path().resolve().parent\n",
    "BASE_DIR.exists()"
   ]
  },
  {
   "cell_type": "code",
   "execution_count": 6,
   "id": "80358374",
   "metadata": {},
   "outputs": [
    {
     "data": {
      "text/plain": [
       "True"
      ]
     },
     "execution_count": 6,
     "metadata": {},
     "output_type": "execute_result"
    }
   ],
   "source": [
    "APP_DIR = BASE_DIR / 'app'\n",
    "APP_DIR.exists()"
   ]
  },
  {
   "cell_type": "code",
   "execution_count": 7,
   "id": "191eb208",
   "metadata": {},
   "outputs": [],
   "source": [
    "IGNORED_DIR = APP_DIR / \"ignored\"\n",
    "SECURE_DIR = APP_DIR / \"encrypted\"\n",
    "DECRYPTED_DIR = APP_DIR / \"decrypted\""
   ]
  },
  {
   "cell_type": "code",
   "execution_count": 8,
   "id": "3ad74cdc",
   "metadata": {},
   "outputs": [],
   "source": [
    "SECURE_DIR.mkdir(exist_ok = True, parents = True)"
   ]
  },
  {
   "cell_type": "code",
   "execution_count": 9,
   "id": "bd85f3a9",
   "metadata": {},
   "outputs": [],
   "source": [
    "DECRYPTED_DIR.mkdir(exist_ok=True, parents=True)"
   ]
  },
  {
   "cell_type": "code",
   "execution_count": 12,
   "id": "c554c805",
   "metadata": {},
   "outputs": [],
   "source": [
    "ENCRYPTION_KEY = os.environ.get(\"ENCRYPTION_KEY\")"
   ]
  },
  {
   "cell_type": "code",
   "execution_count": 10,
   "id": "3d4f1ef8",
   "metadata": {},
   "outputs": [],
   "source": [
    "def generate_key():\n",
    "    return Fernet.generate_key().decode(\"UTF-8\")"
   ]
  },
  {
   "cell_type": "code",
   "execution_count": null,
   "id": "095027f9",
   "metadata": {},
   "outputs": [],
   "source": []
  },
  {
   "cell_type": "code",
   "execution_count": 4,
   "id": "d1bc2406",
   "metadata": {},
   "outputs": [],
   "source": [
    "def encrypt_dir(input_dir, output_dir):\n",
    "    key = ENCRYPTION_KEY\n",
    "    if not key:\n",
    "        raise Exception(\"ENCRYPTION_KEY is not found\")\n",
    "    fer = Fernet(key) # f\"{}:\"\n",
    "    input_dir = pathlib.Path(input_dir)\n",
    "    output_dir = pathlib.Path(output_dir)\n",
    "    output_dir.mkdir(exist_ok=True, parents=True)\n",
    "    for path in input_dir.glob(\"*\"):\n",
    "        _path_bytes = path.read_bytes() # open(filepath, 'rb')\n",
    "        data = fer.encrypt(_path_bytes)\n",
    "        rel_path = path.relative_to(input_dir)\n",
    "        dest_path = output_dir / rel_path\n",
    "        dest_path.write_bytes(data)"
   ]
  },
  {
   "cell_type": "code",
   "execution_count": 5,
   "id": "62bc24a7",
   "metadata": {},
   "outputs": [],
   "source": [
    "def decrypt_dir(input_dir, output_dir):\n",
    "    key = ENCRYPTION_KEY\n",
    "    if not key:\n",
    "        raise Exception(\"ENCRYPTION_KEY is not found\")\n",
    "    fer = Fernet(key) # f\"{}:\"\n",
    "    input_dir = pathlib.Path(input_dir)\n",
    "    output_dir = pathlib.Path(output_dir)\n",
    "    output_dir.mkdir(exist_ok=True, parents=True)\n",
    "    for path in input_dir.glob(\"*\"):\n",
    "        _path_bytes = path.read_bytes() # open(filepath, 'rb')\n",
    "        data = fer.decrypt(_path_bytes)\n",
    "        rel_path = path.relative_to(input_dir)\n",
    "        dest_path = output_dir / rel_path\n",
    "        dest_path.write_bytes(data)"
   ]
  }
 ],
 "metadata": {
  "kernelspec": {
   "display_name": "Python 3 (ipykernel)",
   "language": "python",
   "name": "python3"
  },
  "language_info": {
   "codemirror_mode": {
    "name": "ipython",
    "version": 3
   },
   "file_extension": ".py",
   "mimetype": "text/x-python",
   "name": "python",
   "nbconvert_exporter": "python",
   "pygments_lexer": "ipython3",
   "version": "3.7.11"
  }
 },
 "nbformat": 4,
 "nbformat_minor": 5
}
